{
 "cells": [
  {
   "cell_type": "markdown",
   "metadata": {},
   "source": [
    "# Formalism"
   ]
  },
  {
   "cell_type": "markdown",
   "metadata": {},
   "source": [
    "Consider a 4-level system here. Energies of level $\\left|1\\right>$, $\\left|2\\right>$ and $\\left|3\\right>$ are in increasing order, and there one laser coupling state $\\left|1\\right>$ to $\\left|2\\right>$, and another laser coupling state $\\left|2\\right>$ to $\\left|3\\right>$. State $\\left|2\\right>$ can decay to state $\\left|1\\right>$. State $\\left|3\\right>$ can decay to state $\\left|2\\right>$ and $\\left|4\\right>$. Now we want to solve the population evolution using master equations."
   ]
  },
  {
   "cell_type": "markdown",
   "metadata": {},
   "source": [
    "Master equations can be written as \n",
    "$$\\dot{\\rho}=\\frac{-i}{\\hbar}\\left[H,\\ \\rho\\right]+\\sum_i\\Gamma_i\\left(L_i\\rho L_i^\\dagger-\\frac{1}{2}L_i^\\dagger L_i\\rho-\\frac{1}{2}\\rho L_i^\\dagger L_i\\right).$$ \n",
    "Under a unitary transformation (or rotating frame $\\rho\\rightarrow U\\rho U^\\dagger$), all the operators transform in the same way and the master equation can be re-written as\n",
    "$$\\dot{\\rho}=-i\\left[H/\\hbar+i\\dot{U}U^\\dagger,\\ \\rho\\right]+\\sum_i\\Gamma_i\\left(L_i\\rho L_i^\\dagger-\\frac{1}{2}L_i^\\dagger L_i\\rho-\\frac{1}{2}\\rho L_i^\\dagger L_i\\right).$$ "
   ]
  },
  {
   "cell_type": "markdown",
   "metadata": {},
   "source": [
    "Here we use $\\omega_i$ for energy of level $\\left|i\\right>$, and $\\Gamma_{ij}$ for decay rate from level $\\left|i\\right>$ and $\\left|j\\right>$. We use $\\omega_{ij}$, $\\Omega_{ij}$ and $\\Delta_{ij}$ for frequency, Rabi frequency and detuning respectively of the laser that couples level $\\left|i\\right>$ and $\\left|j\\right>$ (assume one laser only couples one pair of states)."
   ]
  },
  {
   "cell_type": "markdown",
   "metadata": {},
   "source": []
  },
  {
   "cell_type": "code",
   "execution_count": 94,
   "metadata": {},
   "outputs": [],
   "source": [
    "import numpy as np\n",
    "import sympy\n",
    "from sympy.physics.quantum.dagger import Dagger\n",
    "\n",
    "omega_1, omega_2, omega_3, omega_4 = sympy.symbols('omega_1 omega_2 omega_3 omega_4', real=True) # energy of states\n",
    "Omega_12, Omega_23 = sympy.symbols('Omega_12 Omega_23', real=True) # Rabi frequency\n",
    "omega_12, omega_23 = sympy.symbols('omega_12 omega_23', real=True) # laser frequency\n",
    "Delta_12, Delta_23 = sympy.symbols('Delta_12 Delta_23', real=True) # laser frequency\n",
    "t = sympy.symbols('t', positive=True) # time\n",
    "\n",
    "rho_11, rho_12, rho_13, rho_14 = sympy.symbols('rho_11 rho_12 rho_13 rho_14') # density matrix elements\n",
    "rho_21, rho_22, rho_23, rho_24 = sympy.symbols('rho_21 rho_22 rho_23 rho_24') # density matrix elements\n",
    "rho_31, rho_32, rho_33, rho_34 = sympy.symbols('rho_31 rho_32 rho_33 rho_34') # density matrix elements\n",
    "rho_41, rho_42, rho_43, rho_44 = sympy.symbols('rho_41 rho_42 rho_43 rho_44') # density matrix elements"
   ]
  },
  {
   "cell_type": "code",
   "execution_count": 82,
   "metadata": {},
   "outputs": [
    {
     "name": "stdout",
     "output_type": "stream",
     "text": [
      "Hamiltonian in lab frame:\n"
     ]
    },
    {
     "data": {
      "text/latex": [
       "$\\displaystyle \\left[\\begin{matrix}\\omega_{1} & \\frac{\\Omega_{12} e^{i \\omega_{12} t}}{2} & 0 & 0\\\\\\frac{\\Omega_{12} e^{- i \\omega_{12} t}}{2} & \\omega_{2} & \\frac{\\Omega_{23} e^{i \\omega_{23} t}}{2} & 0\\\\0 & \\frac{\\Omega_{23} e^{- i \\omega_{23} t}}{2} & \\omega_{3} & 0\\\\0 & 0 & 0 & \\omega_{4}\\end{matrix}\\right]$"
      ],
      "text/plain": [
       "Matrix([\n",
       "[                      omega_1,  Omega_12*exp(I*omega_12*t)/2,                            0,       0],\n",
       "[Omega_12*exp(-I*omega_12*t)/2,                       omega_2, Omega_23*exp(I*omega_23*t)/2,       0],\n",
       "[                            0, Omega_23*exp(-I*omega_23*t)/2,                      omega_3,       0],\n",
       "[                            0,                             0,                            0, omega_4]])"
      ]
     },
     "execution_count": 82,
     "metadata": {},
     "output_type": "execute_result"
    }
   ],
   "source": [
    "Ham = sympy.Matrix([[omega_1, Omega_12*sympy.exp(sympy.I*omega_12*t)/2, 0, 0], \n",
    "                    [Omega_12*sympy.exp(-sympy.I*omega_12*t)/2, omega_2, Omega_23*sympy.exp(sympy.I*omega_23*t)/2, 0],\n",
    "                    [0, Omega_23*sympy.exp(-sympy.I*omega_23*t)/2, omega_3, 0],\n",
    "                    [0, 0, 0, omega_4]]) # Hamiltonian\n",
    "                    \n",
    "print(\"Hamiltonian in lab frame:\")\n",
    "Ham"
   ]
  },
  {
   "cell_type": "code",
   "execution_count": 83,
   "metadata": {},
   "outputs": [
    {
     "name": "stdout",
     "output_type": "stream",
     "text": [
      "Unitary transformation:\n"
     ]
    },
    {
     "data": {
      "text/latex": [
       "$\\displaystyle \\left[\\begin{matrix}1 & 0 & 0 & 0\\\\0 & e^{i \\omega_{12} t} & 0 & 0\\\\0 & 0 & e^{i \\omega_{12} t} e^{i \\omega_{23} t} & 0\\\\0 & 0 & 0 & 1\\end{matrix}\\right]$"
      ],
      "text/plain": [
       "Matrix([\n",
       "[1,                 0,                                   0, 0],\n",
       "[0, exp(I*omega_12*t),                                   0, 0],\n",
       "[0,                 0, exp(I*omega_12*t)*exp(I*omega_23*t), 0],\n",
       "[0,                 0,                                   0, 1]])"
      ]
     },
     "execution_count": 83,
     "metadata": {},
     "output_type": "execute_result"
    }
   ],
   "source": [
    "Uni = sympy.Matrix([[1, 0, 0, 0],\n",
    "                    [0, sympy.exp(sympy.I*omega_12*t), 0, 0],\n",
    "                    [0, 0, sympy.exp(sympy.I*omega_12*t)*sympy.exp(sympy.I*omega_23*t), 0],\n",
    "                    [0, 0, 0, 1]]) # Unitary matrix \n",
    "                    \n",
    "print(\"Unitary transformation:\")\n",
    "Uni"
   ]
  },
  {
   "cell_type": "code",
   "execution_count": 84,
   "metadata": {},
   "outputs": [
    {
     "name": "stdout",
     "output_type": "stream",
     "text": [
      "Effective Hamiltonian in ratating frame\n"
     ]
    },
    {
     "data": {
      "text/latex": [
       "$\\displaystyle \\left[\\begin{matrix}0 & \\frac{\\Omega_{12}}{2} & 0 & 0\\\\\\frac{\\Omega_{12}}{2} & - \\omega_{1} - \\omega_{12} + \\omega_{2} & \\frac{\\Omega_{23}}{2} & 0\\\\0 & \\frac{\\Omega_{23}}{2} & - \\omega_{1} - \\omega_{12} - \\omega_{23} + \\omega_{3} & 0\\\\0 & 0 & 0 & - \\omega_{1} + \\omega_{4}\\end{matrix}\\right]$"
      ],
      "text/plain": [
       "Matrix([\n",
       "[         0,                    Omega_12/2,                                        0,                  0],\n",
       "[Omega_12/2, -omega_1 - omega_12 + omega_2,                               Omega_23/2,                  0],\n",
       "[         0,                    Omega_23/2, -omega_1 - omega_12 - omega_23 + omega_3,                  0],\n",
       "[         0,                             0,                                        0, -omega_1 + omega_4]])"
      ]
     },
     "execution_count": 84,
     "metadata": {},
     "output_type": "execute_result"
    }
   ],
   "source": [
    "Ham_rot = Uni.multiply(Ham).multiply(Dagger(Uni)) # Unitary transformation\n",
    "Ham_rot += sympy.I*sympy.diff(Uni, t).multiply(Dagger(Uni)) # effective Hamiltonian\n",
    "Ham_rot -= omega_1*sympy.eye(4) # shift energy\n",
    "Ham_rot = sympy.simplify(Ham_rot)\n",
    "\n",
    "print(\"Effective Hamiltonian in ratating frame\")\n",
    "Ham_rot"
   ]
  },
  {
   "cell_type": "code",
   "execution_count": 103,
   "metadata": {},
   "outputs": [
    {
     "name": "stdout",
     "output_type": "stream",
     "text": [
      "Re-write (effective) Hamiltonian in rotating frame:\n"
     ]
    },
    {
     "data": {
      "text/latex": [
       "$\\displaystyle \\left[\\begin{matrix}0 & \\frac{\\Omega_{12}}{2} & 0 & 0\\\\\\frac{\\Omega_{12}}{2} & - \\Delta_{23} & \\frac{\\Omega_{23}}{2} & 0\\\\0 & \\frac{\\Omega_{23}}{2} & - \\Delta_{12} - \\Delta_{23} & 0\\\\0 & 0 & 0 & \\omega_{4}\\end{matrix}\\right]$"
      ],
      "text/plain": [
       "Matrix([\n",
       "[         0, Omega_12/2,                    0,       0],\n",
       "[Omega_12/2,  -Delta_23,           Omega_23/2,       0],\n",
       "[         0, Omega_23/2, -Delta_12 - Delta_23,       0],\n",
       "[         0,          0,                    0, omega_4]])"
      ]
     },
     "execution_count": 103,
     "metadata": {},
     "output_type": "execute_result"
    }
   ],
   "source": [
    "Ham_rot_2 = sympy.Matrix([[0, Omega_12/2, 0, 0], \n",
    "                    [Omega_12/2, -Delta_23, Omega_23/2, 0],\n",
    "                    [0, Omega_23/2, -Delta_23-Delta_12, 0],\n",
    "                    [0, 0, 0, omega_4]]) # Hamiltonian\n",
    "\n",
    "print(\"Re-write (effective) Hamiltonian in rotating frame:\")\n",
    "Ham_rot_2"
   ]
  },
  {
   "cell_type": "code",
   "execution_count": 106,
   "metadata": {},
   "outputs": [
    {
     "name": "stdout",
     "output_type": "stream",
     "text": [
      "Density matrix (in rotating frame):\n"
     ]
    },
    {
     "data": {
      "text/latex": [
       "$\\displaystyle \\left[\\begin{matrix}\\rho_{11} & \\rho_{12} & \\rho_{13} & \\rho_{14}\\\\\\rho_{21} & \\rho_{22} & \\rho_{23} & \\rho_{24}\\\\\\rho_{31} & \\rho_{32} & \\rho_{33} & \\rho_{34}\\\\\\rho_{41} & \\rho_{42} & \\rho_{43} & \\rho_{44}\\end{matrix}\\right]$"
      ],
      "text/plain": [
       "Matrix([\n",
       "[rho_11, rho_12, rho_13, rho_14],\n",
       "[rho_21, rho_22, rho_23, rho_24],\n",
       "[rho_31, rho_32, rho_33, rho_34],\n",
       "[rho_41, rho_42, rho_43, rho_44]])"
      ]
     },
     "execution_count": 106,
     "metadata": {},
     "output_type": "execute_result"
    }
   ],
   "source": [
    "den = sympy.Matrix([[rho_11, rho_12, rho_13, rho_14], \n",
    "                    [rho_21, rho_22, rho_23, rho_24],\n",
    "                    [rho_31, rho_32, rho_33, rho_34],\n",
    "                    [rho_41, rho_42, rho_43, rho_44]]) # Density matrix\n",
    "\n",
    "print(\"Density matrix (in rotating frame):\")\n",
    "den"
   ]
  },
  {
   "cell_type": "code",
   "execution_count": 88,
   "metadata": {},
   "outputs": [
    {
     "data": {
      "text/latex": [
       "$\\displaystyle \\left[\\begin{matrix}0 & e^{- i \\omega_{12} t} & 0 & 0\\\\0 & 0 & 0 & 0\\\\0 & 0 & 0 & 0\\\\0 & 0 & 0 & 0\\end{matrix}\\right]$"
      ],
      "text/plain": [
       "Matrix([\n",
       "[0, exp(-I*omega_12*t), 0, 0],\n",
       "[0,                  0, 0, 0],\n",
       "[0,                  0, 0, 0],\n",
       "[0,                  0, 0, 0]])"
      ]
     },
     "execution_count": 88,
     "metadata": {},
     "output_type": "execute_result"
    }
   ],
   "source": [
    "L_21 = sympy.Matrix([[0, 1, 0, 0], \n",
    "                    [0, 0, 0, 0],\n",
    "                    [0, 0, 0, 0],\n",
    "                    [0, 0, 0, 0]]) # Lindblad operator for decay from state |2> to |1>\n",
    "L_21_rot = Uni.multiply(L_21).multiply(Dagger(Uni))\n",
    "\n",
    "print(\"Lindblad operator L_12 in rotating frame:\")\n",
    "L_21_rot"
   ]
  },
  {
   "cell_type": "code",
   "execution_count": 109,
   "metadata": {},
   "outputs": [
    {
     "name": "stdout",
     "output_type": "stream",
     "text": [
      "Lindblad terms from L_21:\n"
     ]
    },
    {
     "data": {
      "text/latex": [
       "$\\displaystyle \\left[\\begin{matrix}\\rho_{22} & - \\frac{\\rho_{12}}{2} & 0 & 0\\\\- \\frac{\\rho_{21}}{2} & - \\rho_{22} & - \\frac{\\rho_{23}}{2} & - \\frac{\\rho_{24}}{2}\\\\0 & - \\frac{\\rho_{32}}{2} & 0 & 0\\\\0 & - \\frac{\\rho_{42}}{2} & 0 & 0\\end{matrix}\\right]$"
      ],
      "text/plain": [
       "Matrix([\n",
       "[   rho_22, -rho_12/2,         0,         0],\n",
       "[-rho_21/2,   -rho_22, -rho_23/2, -rho_24/2],\n",
       "[        0, -rho_32/2,         0,         0],\n",
       "[        0, -rho_42/2,         0,         0]])"
      ]
     },
     "execution_count": 109,
     "metadata": {},
     "output_type": "execute_result"
    }
   ],
   "source": [
    "Lindblad_21 = L_21_rot.multiply(den).multiply(Dagger(L_21_rot))-Dagger(L_21_rot).multiply(L_21_rot).multiply(den)/2-den.multiply(Dagger(L_21_rot)).multiply(L_21_rot)/2\n",
    "\n",
    "print(\"Lindblad terms from L_21:\")\n",
    "Lindblad_21"
   ]
  },
  {
   "cell_type": "code",
   "execution_count": 89,
   "metadata": {},
   "outputs": [
    {
     "data": {
      "text/latex": [
       "$\\displaystyle \\left[\\begin{matrix}0 & 0 & 0 & 0\\\\0 & 0 & e^{- i \\omega_{23} t} & 0\\\\0 & 0 & 0 & 0\\\\0 & 0 & 0 & 0\\end{matrix}\\right]$"
      ],
      "text/plain": [
       "Matrix([\n",
       "[0, 0,                  0, 0],\n",
       "[0, 0, exp(-I*omega_23*t), 0],\n",
       "[0, 0,                  0, 0],\n",
       "[0, 0,                  0, 0]])"
      ]
     },
     "execution_count": 89,
     "metadata": {},
     "output_type": "execute_result"
    }
   ],
   "source": [
    "L_32 = sympy.Matrix([[0, 0, 0, 0], \n",
    "                    [0, 0, 1, 0],\n",
    "                    [0, 0, 0, 0],\n",
    "                    [0, 0, 0, 0]]) # Lindblad operator for decay from state |3> to |2>\n",
    "L_32_rot = Uni.multiply(L_32).multiply(Dagger(Uni))\n",
    "\n",
    "print(\"Lindblad operator L_32 in rotating frame:\")\n",
    "L_32_rot"
   ]
  },
  {
   "cell_type": "code",
   "execution_count": 110,
   "metadata": {},
   "outputs": [
    {
     "name": "stdout",
     "output_type": "stream",
     "text": [
      "Lindblad terms from L_32:\n"
     ]
    },
    {
     "data": {
      "text/latex": [
       "$\\displaystyle \\left[\\begin{matrix}0 & 0 & - \\frac{\\rho_{13}}{2} & 0\\\\0 & \\rho_{33} & - \\frac{\\rho_{23}}{2} & 0\\\\- \\frac{\\rho_{31}}{2} & - \\frac{\\rho_{32}}{2} & - \\rho_{33} & - \\frac{\\rho_{34}}{2}\\\\0 & 0 & - \\frac{\\rho_{43}}{2} & 0\\end{matrix}\\right]$"
      ],
      "text/plain": [
       "Matrix([\n",
       "[        0,         0, -rho_13/2,         0],\n",
       "[        0,    rho_33, -rho_23/2,         0],\n",
       "[-rho_31/2, -rho_32/2,   -rho_33, -rho_34/2],\n",
       "[        0,         0, -rho_43/2,         0]])"
      ]
     },
     "execution_count": 110,
     "metadata": {},
     "output_type": "execute_result"
    }
   ],
   "source": [
    "Lindblad_32 = L_32_rot.multiply(den).multiply(Dagger(L_32_rot))-Dagger(L_32_rot).multiply(L_32_rot).multiply(den)/2-den.multiply(Dagger(L_32_rot)).multiply(L_32_rot)/2\n",
    "\n",
    "print(\"Lindblad terms from L_32:\")\n",
    "Lindblad_32"
   ]
  },
  {
   "cell_type": "code",
   "execution_count": 90,
   "metadata": {},
   "outputs": [
    {
     "name": "stdout",
     "output_type": "stream",
     "text": [
      "Lindblad operator L_34 in rotating frame:\n"
     ]
    },
    {
     "data": {
      "text/latex": [
       "$\\displaystyle \\left[\\begin{matrix}0 & 0 & 0 & 0\\\\0 & 0 & 0 & 0\\\\0 & 0 & 0 & 0\\\\0 & 0 & e^{- i \\omega_{12} t} e^{- i \\omega_{23} t} & 0\\end{matrix}\\right]$"
      ],
      "text/plain": [
       "Matrix([\n",
       "[0, 0,                                     0, 0],\n",
       "[0, 0,                                     0, 0],\n",
       "[0, 0,                                     0, 0],\n",
       "[0, 0, exp(-I*omega_12*t)*exp(-I*omega_23*t), 0]])"
      ]
     },
     "execution_count": 90,
     "metadata": {},
     "output_type": "execute_result"
    }
   ],
   "source": [
    "L_34 = sympy.Matrix([[0, 0, 0, 0], \n",
    "                    [0, 0, 0, 0],\n",
    "                    [0, 0, 0, 0],\n",
    "                    [0, 0, 1, 0]]) # Lindblad operator for decay from state |3> to |2>\n",
    "L_34_rot = Uni.multiply(L_34).multiply(Dagger(Uni))\n",
    "\n",
    "print(\"Lindblad operator L_34 in rotating frame:\")\n",
    "L_34_rot"
   ]
  },
  {
   "cell_type": "code",
   "execution_count": 111,
   "metadata": {},
   "outputs": [
    {
     "name": "stdout",
     "output_type": "stream",
     "text": [
      "Lindblad terms from L_34:\n"
     ]
    },
    {
     "data": {
      "text/latex": [
       "$\\displaystyle \\left[\\begin{matrix}0 & 0 & - \\frac{\\rho_{13}}{2} & 0\\\\0 & 0 & - \\frac{\\rho_{23}}{2} & 0\\\\- \\frac{\\rho_{31}}{2} & - \\frac{\\rho_{32}}{2} & - \\rho_{33} & - \\frac{\\rho_{34}}{2}\\\\0 & 0 & - \\frac{\\rho_{43}}{2} & \\rho_{33}\\end{matrix}\\right]$"
      ],
      "text/plain": [
       "Matrix([\n",
       "[        0,         0, -rho_13/2,         0],\n",
       "[        0,         0, -rho_23/2,         0],\n",
       "[-rho_31/2, -rho_32/2,   -rho_33, -rho_34/2],\n",
       "[        0,         0, -rho_43/2,    rho_33]])"
      ]
     },
     "execution_count": 111,
     "metadata": {},
     "output_type": "execute_result"
    }
   ],
   "source": [
    "Lindblad_34 = L_34_rot.multiply(den).multiply(Dagger(L_34_rot))-Dagger(L_34_rot).multiply(L_34_rot).multiply(den)/2-den.multiply(Dagger(L_34_rot)).multiply(L_34_rot)/2\n",
    "\n",
    "print(\"Lindblad terms from L_34:\")\n",
    "Lindblad_34"
   ]
  },
  {
   "cell_type": "code",
   "execution_count": null,
   "metadata": {},
   "outputs": [],
   "source": []
  }
 ],
 "metadata": {
  "kernelspec": {
   "display_name": "Python 3.10.1 64-bit",
   "language": "python",
   "name": "python3"
  },
  "language_info": {
   "codemirror_mode": {
    "name": "ipython",
    "version": 3
   },
   "file_extension": ".py",
   "mimetype": "text/x-python",
   "name": "python",
   "nbconvert_exporter": "python",
   "pygments_lexer": "ipython3",
   "version": "3.10.1"
  },
  "orig_nbformat": 4,
  "vscode": {
   "interpreter": {
    "hash": "7db537a8503261aa8fd45329b8f6a574487a61aa8908e3093ced290574a2e8cb"
   }
  }
 },
 "nbformat": 4,
 "nbformat_minor": 2
}
