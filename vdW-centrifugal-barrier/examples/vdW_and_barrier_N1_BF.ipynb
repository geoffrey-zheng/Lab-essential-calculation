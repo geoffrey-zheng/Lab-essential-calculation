{
 "cells": [
  {
   "attachments": {},
   "cell_type": "markdown",
   "metadata": {},
   "source": [
    "# Van der Waals interaction and centrifugal barriers of $N=1$ molecules (body-fixed frame)"
   ]
  },
  {
   "cell_type": "code",
   "execution_count": 1,
   "metadata": {},
   "outputs": [],
   "source": [
    "import numpy as np\n",
    "from numpy.linalg import eigh\n",
    "import matplotlib.pyplot as plt\n",
    "import sys, os\n",
    "\n",
    "module_path = os.path.abspath(os.path.join('..'))\n",
    "if module_path not in sys.path:\n",
    "    sys.path.append(module_path)\n",
    "\n",
    "import vdW_scripts as vdW"
   ]
  },
  {
   "attachments": {},
   "cell_type": "markdown",
   "metadata": {},
   "source": [
    "## N=1 molecule"
   ]
  },
  {
   "attachments": {},
   "cell_type": "markdown",
   "metadata": {},
   "source": [
    "### 1. Define parameters"
   ]
  },
  {
   "cell_type": "code",
   "execution_count": 2,
   "metadata": {},
   "outputs": [],
   "source": [
    "JA = 1 # molecule A's rotational angular momentum\n",
    "JB = 1 # molecule B's rotational angular momentum\n",
    "Lmax = 5 # max partial wave to include\n",
    "\n",
    "# define C6 coefficients, following Table 6 of https://arxiv.org/pdf/1703.02833.pdf\n",
    "C6_list = np.array([-4/25, -4/25, -17/200, -17/200, -13/40, -13/40, \n",
    "                -(13*np.sqrt(3)+16)/100, (13*np.sqrt(3)-16)/100, -1/25]) * (vdW.d_EDM**4) / vdW.B_rot"
   ]
  },
  {
   "attachments": {},
   "cell_type": "markdown",
   "metadata": {},
   "source": [
    "### 2. Calculate centrifugal barriers"
   ]
  },
  {
   "cell_type": "code",
   "execution_count": 3,
   "metadata": {},
   "outputs": [],
   "source": [
    "s_wave_barrier_list = np.array([])\n",
    "p_wave_barrier_list = np.array([])\n",
    "d_wave_barrier_list = np.array([])\n",
    "f_wave_barrier_list = np.array([])\n",
    "g_wave_barrier_list = np.array([])\n",
    "\n",
    "for C6 in C6_list:\n",
    "    if C6 < 0:\n",
    "        s_wave_barrier_list = np.append(s_wave_barrier_list, vdW.centrigufal_barrier(C6, 0, unit_in_uK=True))\n",
    "        p_wave_barrier_list = np.append(p_wave_barrier_list, vdW.centrigufal_barrier(C6, 1, unit_in_uK=True))\n",
    "        d_wave_barrier_list = np.append(d_wave_barrier_list, vdW.centrigufal_barrier(C6, 2, unit_in_uK=True))\n",
    "        f_wave_barrier_list = np.append(f_wave_barrier_list, vdW.centrigufal_barrier(C6, 3, unit_in_uK=True))\n",
    "        g_wave_barrier_list = np.append(g_wave_barrier_list, vdW.centrigufal_barrier(C6, 4, unit_in_uK=True))\n"
   ]
  },
  {
   "attachments": {},
   "cell_type": "markdown",
   "metadata": {},
   "source": [
    "### 3. Calculate unitarity collision rate"
   ]
  },
  {
   "cell_type": "code",
   "execution_count": 4,
   "metadata": {},
   "outputs": [
    {
     "name": "stdout",
     "output_type": "stream",
     "text": [
      "Unitarity loss rate (up to d-wave) = 9.41e-10 cm^3/s.\n",
      "Unitarity loss rate (up to g-wave) = 1.13e-09 cm^3/s.\n"
     ]
    }
   ],
   "source": [
    "T = 40 # uK, molecule temperature\n",
    "\n",
    "partial_rate_1 = 0\n",
    "partial_rate_2 = 0\n",
    "for barrier in s_wave_barrier_list:\n",
    "    partial_rate_1 += vdW.unitarity_rate(T, barrier)\n",
    "for barrier in p_wave_barrier_list:\n",
    "    partial_rate_1 += vdW.unitarity_rate(T, barrier) * 3 # 3 p-wave channels\n",
    "for barrier in d_wave_barrier_list:\n",
    "    partial_rate_1 += vdW.unitarity_rate(T, barrier) * 5 # 5 d-wave channels\n",
    "\n",
    "for barrier in f_wave_barrier_list:\n",
    "    partial_rate_2 += vdW.unitarity_rate(T, barrier) * 7 # 7 f-wave channels\n",
    "for barrier in g_wave_barrier_list:\n",
    "    partial_rate_2 += vdW.unitarity_rate(T, barrier) * 9 # 9 g-wave channels\n",
    "\n",
    "partial_rate_1 /= (2*JA+1)*(2*JB+1) # average over all Zeeman sublevels\n",
    "partial_rate_2 /= (2*JA+1)*(2*JB+1) # average over all Zeeman sublevels\n",
    "print(\"Unitarity loss rate (up to d-wave) = \" + np.format_float_scientific(partial_rate_1, 2) + \" cm^3/s.\")\n",
    "print(\"Unitarity loss rate (up to g-wave) = \" + np.format_float_scientific(partial_rate_1+partial_rate_2, 2) + \" cm^3/s.\")"
   ]
  },
  {
   "cell_type": "code",
   "execution_count": null,
   "metadata": {},
   "outputs": [],
   "source": []
  }
 ],
 "metadata": {
  "kernelspec": {
   "display_name": "base",
   "language": "python",
   "name": "python3"
  },
  "language_info": {
   "codemirror_mode": {
    "name": "ipython",
    "version": 3
   },
   "file_extension": ".py",
   "mimetype": "text/x-python",
   "name": "python",
   "nbconvert_exporter": "python",
   "pygments_lexer": "ipython3",
   "version": "3.10.1"
  },
  "orig_nbformat": 4
 },
 "nbformat": 4,
 "nbformat_minor": 2
}
